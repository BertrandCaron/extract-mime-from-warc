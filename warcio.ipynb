{
 "cells": [
  {
   "cell_type": "markdown",
   "id": "fa5d678d-b436-4d17-aceb-1d87d3fc5e2b",
   "metadata": {},
   "source": [
    "# Extraction de fichiers d'un type MIME donné à partir d'un W/ARC\n",
    "Le script suivant prend en entrée un dossier où se trouvent des fichiers ARC ou WARC gzippés. Il cherche dans chacun des fichiers W/ARC (ARC ou WARC) des enregistrements ayant un type MIME particulier. Il les extrait à l'emplacement du script, en les renommant à partir du nom du WARC et en ajoutant un numéro séquentiel.\n",
    "\n",
    "La première opération est d'installer le package [warcio](https://github.com/webrecorder/warcio)."
   ]
  },
  {
   "cell_type": "markdown",
   "id": "153ce128-3c4d-4085-80c8-952792304bcd",
   "metadata": {},
   "source": [
    "On importe ensuite les modules de base de python dont on a besoin : [os.path](https://docs.python.org/fr/3/library/os.path.html#module-os.path) pour gérer les chemins et noms de fichiers, [glob](https://docs.python.org/fr/3/library/glob.html) pour l'identification de fichiers selon un motif qui gère le caractère joker \"*\" et enfin [io](https://docs.python.org/fr/3/library/io.html#module-io) qui permet notamment d'écrire des flux binaires dans des fichiers.\n",
    "\n",
    "Enfin, on importe la classe archiveiterator du module warcio pour parser des fichiers W/ARC."
   ]
  },
  {
   "cell_type": "code",
   "execution_count": null,
   "id": "7a71e13a-1fb1-49d2-babd-3737c70ca1a3",
   "metadata": {},
   "outputs": [
    {
     "ename": "",
     "evalue": "",
     "output_type": "error",
     "traceback": [
      "\u001b[1;31mLes cellules en cours d’exécution avec venv (Python 3.10.12) nécessitent le package ipykernel.\n",
      "\u001b[1;31mExécutez la commande suivante pour installer 'ipykernel' dans l’environnement Python. \n",
      "\u001b[1;31mCommande : '/home/bertrand/projects-git/extract_warc_records/venv/bin/python -m pip install ipykernel -U --force-reinstall'"
     ]
    }
   ],
   "source": [
    "from os import path\n",
    "import glob\n",
    "import io\n",
    "\n",
    "from warcio import archiveiterator"
   ]
  },
  {
   "cell_type": "markdown",
   "id": "2e92b479-cc1f-4fbd-86ee-9b9e789fa897",
   "metadata": {},
   "source": [
    "La première fonction (exploratoire) prend en paramètres le type MIME recherché et le fichier W/ARC cible. Elle ouvre le fichier W/ARC en lecture et en mode binaire et parcourt tous les enregistrements. Elle ne considère que les enregistrements qui sont de type \"response\" (réponse du serveur) et dont l'en-tête HTTP(S) contient un attribut `Content-Type` qui correspond au type MIME recherché. Dans ce cas, elle affiche l'URL où l'enregistrement a été collecté.\n",
    "\n",
    "Dans le cas d'une erreur liée à l'absence de l'attribut `Content-Type`, elle se contente de passer à l'enregistrement suivant."
   ]
  },
  {
   "cell_type": "code",
   "execution_count": null,
   "id": "d1dcb3d7-f37a-40f6-b72a-85cb32fc5dc7",
   "metadata": {
    "scrolled": true
   },
   "outputs": [],
   "source": [
    "def print_warc_records_uri(mimetype, warc_file):\n",
    "    \"\"\"This function searches for all records of a given mimetype in the WARC file\n",
    "and extracts them.\"\"\"\n",
    "    with open(warc_file, 'rb') as records_file:\n",
    "        for record in archiveiterator.ArchiveIterator(records_file, arc2warc=True):\n",
    "            try:\n",
    "                if record.rec_type == 'response' and record.http_headers.get_header('Content-Type') ==  mimetype:\n",
    "                    print(record.rec_headers.get_header('WARC-Target-URI'))\n",
    "            except AttributeError:\n",
    "                pass"
   ]
  },
  {
   "cell_type": "markdown",
   "id": "3f46be3c-cf6a-4fbc-906d-b03bbb501318",
   "metadata": {},
   "source": [
    "On appelle ensuite la fonction avec une boucle parcourant tous les fichiers d'un dossier donné, en spécifiant les fichiers qu'on souhaite traiter avec un motif de type \"*arc.gz\" qui trouvera tous les fichiers ARC ou WARC gzippés (s'ils sont bien nommés, évidemment).\n",
    "\n",
    "On notera l'utilisation de l'expression `os.path.expanduser('~') + 'chemin/vers/le/fichier')` pour accéder aux fichiers situés dans l'espace du groupe Formats."
   ]
  },
  {
   "cell_type": "code",
   "execution_count": null,
   "id": "073a9ff3-7c12-4c1b-b31e-5c04beeeb6c1",
   "metadata": {},
   "outputs": [],
   "source": [
    "for warc in glob.glob('*arc'):\n",
    "    print_warc_records_uri('text/html', warc)"
   ]
  },
  {
   "cell_type": "markdown",
   "id": "fcb6f46f-c6cc-4785-9031-828f94a91055",
   "metadata": {},
   "source": [
    "On déclare une seconde fonction, sur le principe assez similaire, qui cette fois-ci extraiera les enregistrements sous forme de fichiers. La fonction déclare un compteur `i` permettant de renommer séquentiellement les fichiers. Elle capture dans une variable `stream` le flux de données de chaque enregistrement (ce que l'on nomme le _payload_ de l'enregistrement) et le déclare comme flux de données binaires. Elle ouvre ensuite un fichier et y inscrit le flux en question."
   ]
  },
  {
   "cell_type": "code",
   "execution_count": null,
   "id": "51b11aa3-5d2e-4022-bf9d-1e444eea27bd",
   "metadata": {},
   "outputs": [],
   "source": [
    "def extract_warc_records(mimetype, warc_file):\n",
    "    \"\"\"This function searches for all records of a given mimetype in the WARC file\n",
    "and extracts them.\"\"\"\n",
    "    with open(warc_file, 'rb') as records_file:\n",
    "        i = 0\n",
    "        for record in archiveiterator.ArchiveIterator(records_file, arc2warc=True):\n",
    "            try:\n",
    "                if record.rec_type == 'response' and record.http_headers.get_header('Content-Type') ==  mimetype:\n",
    "                    stream = io.BytesIO(record.content_stream().read())\n",
    "                    with open(path.basename(warc_file) + \"_\" + str(i) + \".apk\", \"wb\") as f:\n",
    "                        f.write(stream.getbuffer())\n",
    "                    i += 1\n",
    "            except AttributeError:\n",
    "                pass"
   ]
  },
  {
   "cell_type": "markdown",
   "id": "ea5027b4-1b03-4c62-8512-61e36a72b19e",
   "metadata": {},
   "source": [
    "De la même façon que pour la fonction précédente, on l'appelle par son petit nom."
   ]
  },
  {
   "cell_type": "code",
   "execution_count": null,
   "id": "ecfb2599-48e6-426f-8d10-60865d2c4bf9",
   "metadata": {},
   "outputs": [],
   "source": [
    "for warc in glob.glob('*arc'):\n",
    "    extract_warc_records('text/html', warc)"
   ]
  },
  {
   "cell_type": "markdown",
   "id": "71efc8c8-3a57-4228-b0e3-0ed3def17178",
   "metadata": {},
   "source": [
    "Et le tour est joué !\n",
    "\n",
    "Si vous voulez jouer avec des exemples plus conséquents et réels, Internet Archive met à disposition des WARC exemples plus conséquents à explorer à [cette adresse](https://archive.org/download/testWARCfiles)."
   ]
  },
  {
   "cell_type": "code",
   "execution_count": null,
   "id": "a3cfe637-7c3a-4e24-99ab-1fbfcc5cd69d",
   "metadata": {},
   "outputs": [],
   "source": []
  }
 ],
 "metadata": {
  "kernelspec": {
   "display_name": "venv",
   "language": "python",
   "name": "python3"
  },
  "language_info": {
   "codemirror_mode": {
    "name": "ipython",
    "version": 3
   },
   "file_extension": ".py",
   "mimetype": "text/x-python",
   "name": "python",
   "nbconvert_exporter": "python",
   "pygments_lexer": "ipython3",
   "version": "3.10.12"
  }
 },
 "nbformat": 4,
 "nbformat_minor": 5
}
